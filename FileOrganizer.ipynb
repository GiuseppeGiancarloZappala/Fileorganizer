{
 "cells": [
  {
   "cell_type": "markdown",
   "metadata": {},
   "source": [
    "# Step 1 \n",
    ""
   ]
  },
  {
   "cell_type": "code",
   "execution_count": 1,
   "metadata": {
    "pycharm": {
     "name": "#%%\n"
    },
    "scrolled": true
   },
   "outputs": [
    {
     "name": "stdout",
     "output_type": "stream",
     "text": [
      "song1.mp3,('audio/mpeg', None), 1087849 Kbyte\n",
      "ciao.txt,('text/plain', None), 12 Kbyte\n",
      "song2.mp3,('audio/mpeg', None), 764176 Kbyte\n",
      "daffodil.jpg,('image/jpeg', None), 24657 Kbyte\n",
      "trump.jpeg,('image/jpeg', None), 10195 Kbyte\n",
      "bw.png,('image/png', None), 94926 Kbyte\n",
      "pippo.odt,('application/vnd.oasis.opendocument.text', None), 8299 Kbyte\n",
      "eclipse.png,('image/png', None), 64243 Kbyte\n"
     ]
    }
   ],
   "source": [
    "import os\n",
    "import shutil\n",
    "import mimetypes\n",
    "import csv\n",
    "\n",
    "lista_files=[]\n",
    "\n",
    "\n",
    "my_path=(\"files\")\n",
    "dirs = os.listdir( my_path )\n",
    "\n",
    "for file in dirs: #estraggo i file uno per uno\n",
    "    if file.endswith(\".mp3\") or file.endswith(\".png\") or file.endswith(\".jpeg\")or file.endswith(\".jpg\")or file.endswith(\".odt\")or file.endswith(\".txt\"):\n",
    "        f_path = os.path.join(\"files\", file) #punto la posizione del file in questione\n",
    "        f_size = os.path.getsize(f_path)#estraggo la Size\n",
    "        type_file=mimetypes.guess_type(f_path) #estraggo il tipo di file\n",
    "        print(f\"{os.path.basename(f_path)},{type_file}, {f_size} Kbyte\") # stampo le informazioni estratte\n",
    "        name = os.path.basename(f_path)\n",
    "        size = f_size\n",
    "        type_info = type_file\n",
    "        lista_files.extend((name, size, type_info))# aggiungo le informazioni alla mia lista\n",
    "\n",
    "info_files = tuple(lista_files[n:n + 3] for n, i in enumerate(lista_files) if n % 3 == 0) #separo le informazioni per file\n",
    "\n",
    "\n",
    "if os.path.isfile(\"files/recap.csv\"):\n",
    "    with open(\"files/recap.csv\",\"a\") as out:\n",
    "        csv_out=csv.writer(out)#per scrivere in un file csv usiamo la funzione csv.writer\n",
    "        for row in info_files:   \n",
    "            csv_out.writerow(row)\n",
    "else: \n",
    "    with open(\"files/recap.csv\",\"a\") as out:\n",
    "        csv_out=csv.writer(out)#per scrivere in un file csv usiamo la funzione csv.writer\n",
    "        csv_out.writerow(['name','byteSize','Type_info'])#scrivo la prima riga\n",
    "        for row in info_files:\n",
    "            csv_out.writerow(row)\n",
    "\n",
    "for file in dirs:\n",
    "    if os.path.isdir(\"files/audio/\")==False: # verifico l'esistenza delle cartelle\n",
    "        os.mkdir(\"files/audio\")\n",
    "    if os.path.isdir(\"files/docs/\")==False:\n",
    "        os.mkdir(\"files/docs\")\n",
    "    if os.path.isdir(\"files/images/\")==False:\n",
    "        os.mkdir(\"files/images\")\n",
    "    if file.endswith(\".mp3\") or file.endswith(\".wav\"): #verifico l'estensione dei file\n",
    "        shutil.move(os.path.join(\"files\",file),os.path.join(\"files/audio/\",file))#sposto i files nella sottocartella corretta\n",
    "    if file.endswith(\".txt\") or file.endswith(\".odt\"):\n",
    "        shutil.move(os.path.join(\"files/\",file),os.path.join(\"files/docs/\",file))\n",
    "    if file.endswith(\".png\") or file.endswith(\".jpg\")or file.endswith(\".jpeg\"):\n",
    "        shutil.move(os.path.join(\"files/\",file),os.path.join(\"files/images/\",file))\n",
    "\n",
    "\n",
    "\n",
    "\n"
   ]
  },
  {
   "cell_type": "markdown",
   "metadata": {},
   "source": [
    "# Step 3"
   ]
  },
  {
   "cell_type": "code",
   "execution_count": 2,
   "metadata": {},
   "outputs": [
    {
     "name": "stdout",
     "output_type": "stream",
     "text": [
      "\n",
      "  Immagine RGB\n",
      "| daffodil.jpg                             |\n",
      "| 3                                        |\n",
      "| (500, 335, 3)                            |\n",
      "| [109.25114627  85.55517612   4.96728955] |\n",
      "\n",
      "  Immagine RGB\n",
      "| trump.jpeg                            |\n",
      "| 3                                     |\n",
      "| (183, 275, 3)                         |\n",
      "| [97.01080974 98.99407849 90.92379533] |\n",
      "\n",
      "  Immagine in scala di grigio\n",
      "| bw.png             |\n",
      "| 2                  |\n",
      "| (512, 512)         |\n",
      "| 21.480064392089844 |\n",
      "\n",
      "  Immagine RGBA\n",
      "| eclipse.png                                           |\n",
      "| 3                                                     |\n",
      "| (256, 256, 4)                                         |\n",
      "| [109.04953003 109.52186584  39.84899902 133.59094238] |\n"
     ]
    }
   ],
   "source": [
    "import os\n",
    "import numpy as np\n",
    "from tabulate import tabulate\n",
    "from PIL import Image\n",
    "from numpy import asarray\n",
    "import matplotlib\n",
    "\n",
    "\n",
    "for filenames in os.listdir(\"files/images\"):\n",
    "    if filenames.endswith(\".png\") or filenames.endswith(\".jpg\")or filenames.endswith(\".jpeg\"): \n",
    "        image = np.array(Image.open('files/images/' + filenames)) #apro le immagini \n",
    "        valori= np.mean(image, axis=(0, 1))\n",
    "        print(\"\")\n",
    "        if valori.size==1:\n",
    "            print (\"  Immagine in scala di grigio\")\n",
    "        if valori.size==3:\n",
    "            print (\"  Immagine RGB\")\n",
    "        if valori.size==4:\n",
    "            print (\"  Immagine RGBA\")\n",
    "        \n",
    "        #stampo con tabulate i dati richiesti, indicando, sia con i valori che con un messaggio, il tipo di img\n",
    "        print(tabulate([[filenames],[image.ndim],[image.shape],[np.mean(image, axis=(0, 1)),]],tablefmt='orgtbl'))\n"
   ]
  },
  {
   "cell_type": "code",
   "execution_count": 2,
   "metadata": {},
   "outputs": [],
   "source": []
  }
 ],
 "metadata": {
  "kernelspec": {
   "display_name": "Python 3",
   "language": "python",
   "name": "python3"
  },
  "language_info": {
   "codemirror_mode": {
    "name": "ipython",
    "version": 3
   },
   "file_extension": ".py",
   "mimetype": "text/x-python",
   "name": "python",
   "nbconvert_exporter": "python",
   "pygments_lexer": "ipython3",
   "version": "3.8.5"
  }
 },
 "nbformat": 4,
 "nbformat_minor": 1
}